{
 "cells": [
  {
   "cell_type": "markdown",
   "metadata": {},
   "source": [
    "Exercise 31. 반복문\n",
    "1 ~ 10까지의 숫자에 대해 모두 더한 값을 출력하는 프로그램을 for 문을 사용하여 작성하세요."
   ]
  },
  {
   "cell_type": "code",
   "execution_count": 3,
   "metadata": {},
   "outputs": [
    {
     "name": "stdout",
     "output_type": "stream",
     "text": [
      "1\n",
      "2\n",
      "3\n",
      "4\n",
      "5\n",
      "6\n",
      "7\n",
      "8\n",
      "9\n",
      "10\n"
     ]
    }
   ],
   "source": [
    "for num in range(1,11):\n",
    "    print(num)"
   ]
  },
  {
   "cell_type": "code",
   "execution_count": 5,
   "metadata": {},
   "outputs": [
    {
     "name": "stdout",
     "output_type": "stream",
     "text": [
      "total= 55\n"
     ]
    }
   ],
   "source": [
    "total=0\n",
    "for num in range(1,11):\n",
    "    total+=num\n",
    "\n",
    "print(\"total=\",total)"
   ]
  },
  {
   "cell_type": "markdown",
   "metadata": {},
   "source": [
    "Exercise 32. 반복문\n",
    "사용자로부터 2 ~ 9 사이의 숫자를 입력 받은 후, 해당 숫자에 대한 구구단을 출력하세요."
   ]
  },
  {
   "cell_type": "code",
   "execution_count": 9,
   "metadata": {},
   "outputs": [
    {
     "name": "stdout",
     "output_type": "stream",
     "text": [
      "8\n",
      "8 * 1 = 8\n",
      "8 * 2 = 16\n",
      "8 * 3 = 24\n",
      "8 * 4 = 32\n",
      "8 * 5 = 40\n",
      "8 * 6 = 48\n",
      "8 * 7 = 56\n",
      "8 * 8 = 64\n",
      "8 * 9 = 72\n"
     ]
    }
   ],
   "source": [
    "digit=input()\n",
    "\n",
    "for num in range(1,10):\n",
    "    print(digit,\"*\",num,\"=\",int(digit)*num)"
   ]
  },
  {
   "cell_type": "code",
   "execution_count": 10,
   "metadata": {},
   "outputs": [
    {
     "name": "stdout",
     "output_type": "stream",
     "text": [
      "8\n",
      "8 * 1 = 8\n",
      "8 * 2 = 16\n",
      "8 * 3 = 24\n",
      "8 * 4 = 32\n",
      "8 * 5 = 40\n",
      "8 * 6 = 48\n",
      "8 * 7 = 56\n",
      "8 * 8 = 64\n",
      "8 * 9 = 72\n"
     ]
    }
   ],
   "source": [
    "digit=int(input())\n",
    "\n",
    "for num in range(1,10):\n",
    "    print(digit,\"*\",num,\"=\",int(digit)*num)"
   ]
  },
  {
   "cell_type": "markdown",
   "metadata": {},
   "source": [
    "Exercise 33. 반복문과 문자열 다루기 (split)\n",
    "사용자로부터 , 로 구분된 여러 이름을 입력받아서, 한 줄에 하나씩 이름을 출력하세요\n",
    "사용자 입력: Dave,David,Andy,Arthor\n",
    "출력 예: \n",
    "Dave \n",
    "David \n",
    "Andy \n",
    "Arthor "
   ]
  },
  {
   "cell_type": "code",
   "execution_count": 11,
   "metadata": {},
   "outputs": [
    {
     "name": "stdout",
     "output_type": "stream",
     "text": [
      "['Dave', 'David', 'Andy', 'Arthor']\n"
     ]
    }
   ],
   "source": [
    "strings = \"Dave,David,Andy,Arthor\"\n",
    "print(strings.split(\",\"))"
   ]
  },
  {
   "cell_type": "markdown",
   "metadata": {},
   "source": [
    "split 문자열 -> 리스트로\n",
    "join  리스트 -> 문자열로\n",
    "\n",
    ">>> time_list\n",
    "['10', '34', '17']\n",
    ">>> ':'.join(time_list)\n",
    "'10:34:17'"
   ]
  },
  {
   "cell_type": "code",
   "execution_count": 13,
   "metadata": {},
   "outputs": [
    {
     "name": "stdout",
     "output_type": "stream",
     "text": [
      "Dave\n",
      "David\n",
      "Andy\n",
      "Arthor\n"
     ]
    }
   ],
   "source": [
    "strings = \"Dave,David,Andy,Arthor\"\n",
    "for string in strings.split(\",\"):\n",
    "    print(string)"
   ]
  },
  {
   "cell_type": "code",
   "execution_count": 15,
   "metadata": {},
   "outputs": [
    {
     "name": "stdout",
     "output_type": "stream",
     "text": [
      "John,Kimmy,Anna,Michel\n",
      "John\n",
      "Kimmy\n",
      "Anna\n",
      "Michel\n"
     ]
    }
   ],
   "source": [
    "strings = input()\n",
    "for string in strings.split(\",\"):\n",
    "    print(string)"
   ]
  },
  {
   "cell_type": "markdown",
   "metadata": {},
   "source": [
    "Exercise 34. 반복문과 문자열 다루기 (split)\n",
    "사용자로부터 [이름1],[이름2],[이름3] 과 같은 형식으로 데이터를 입력받아서, 한 줄에 하나씩 이름을 출력하세요\n",
    "사용자 입력: [Dave],[David],[Andy],[Arthor]\n",
    "출력 예: \n",
    "Dave \n",
    "David \n",
    "Andy \n",
    "Arthor "
   ]
  },
  {
   "cell_type": "code",
   "execution_count": 18,
   "metadata": {},
   "outputs": [
    {
     "name": "stdout",
     "output_type": "stream",
     "text": [
      "Dave\n",
      "David\n",
      "Andy\n",
      "Arthor\n"
     ]
    }
   ],
   "source": [
    "strings=\"[Dave],[David],[Andy],[Arthor]\"\n",
    "\n",
    "for string in strings.split(\",\"):\n",
    "    print(string.strip(\"[]\")) #양가에 [,] 문자 제거\n",
    "    #이건 주석처리"
   ]
  },
  {
   "cell_type": "markdown",
   "metadata": {},
   "source": [
    "Exercise 35. 반복문과 조건문\n",
    "1부터 30까지의 숫자 중 3의 배수만 출력하세요."
   ]
  },
  {
   "cell_type": "code",
   "execution_count": 20,
   "metadata": {},
   "outputs": [
    {
     "name": "stdout",
     "output_type": "stream",
     "text": [
      "3\n",
      "6\n",
      "9\n",
      "12\n",
      "15\n",
      "18\n",
      "21\n",
      "24\n",
      "27\n",
      "30\n"
     ]
    }
   ],
   "source": [
    "for num in range(1,31):\n",
    "    if (num%3)==0:\n",
    "        print(num)"
   ]
  },
  {
   "cell_type": "markdown",
   "metadata": {},
   "source": [
    "Exercise 36. 반복문 (while)\n",
    "1부터 100까지 숫자를 모두 더한 값을 출력하세요.\n",
    "단 while 구문을 사용해서 작성하세요."
   ]
  },
  {
   "cell_type": "code",
   "execution_count": 26,
   "metadata": {},
   "outputs": [
    {
     "name": "stdout",
     "output_type": "stream",
     "text": [
      "총 합계 :  5050\n"
     ]
    }
   ],
   "source": [
    "total=0\n",
    "num=1\n",
    "#total, num = 0,1 이런 형식으로도 적을 수 있음\n",
    "\n",
    "while num<=100:\n",
    "    total+=num\n",
    "    num+=1\n",
    "\n",
    "print(\"총 합계 : \",total)"
   ]
  },
  {
   "cell_type": "markdown",
   "metadata": {},
   "source": [
    "Exercise 37. 반복문 (while)\n",
    "사용자로부터 4자리의 숫자로 구성된 데이터를 입력받아서 \n",
    "비밀번호와 같으면 '비밀번호가 맞습니다.'를 출력하고 종료하세요. \n",
    "비밀번호와 다르면 '비밀번호가 틀렸습니다.'를 출력하고 다시 사용자로부터 데이터를 입력받으세요.\n",
    "비밀번호는 4312 입니다."
   ]
  },
  {
   "cell_type": "code",
   "execution_count": null,
   "metadata": {},
   "outputs": [],
   "source": []
  }
 ],
 "metadata": {
  "kernelspec": {
   "display_name": "Python 3",
   "language": "python",
   "name": "python3"
  },
  "language_info": {
   "codemirror_mode": {
    "name": "ipython",
    "version": 3
   },
   "file_extension": ".py",
   "mimetype": "text/x-python",
   "name": "python",
   "nbconvert_exporter": "python",
   "pygments_lexer": "ipython3",
   "version": "3.7.4"
  }
 },
 "nbformat": 4,
 "nbformat_minor": 2
}
