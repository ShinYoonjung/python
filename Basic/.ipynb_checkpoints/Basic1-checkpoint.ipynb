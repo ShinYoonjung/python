{
 "cells": [
  {
   "cell_type": "code",
   "execution_count": 1,
   "metadata": {},
   "outputs": [
    {
     "name": "stdout",
     "output_type": "stream",
     "text": [
      "Hello World!\n"
     ]
    }
   ],
   "source": [
    "print(\"Hello World!\")"
   ]
  },
  {
   "cell_type": "code",
   "execution_count": 4,
   "metadata": {},
   "outputs": [
    {
     "name": "stdout",
     "output_type": "stream",
     "text": [
      "I like C\n"
     ]
    }
   ],
   "source": [
    "print(\"I like C\")"
   ]
  },
  {
   "cell_type": "code",
   "execution_count": 6,
   "metadata": {},
   "outputs": [
    {
     "name": "stdout",
     "output_type": "stream",
     "text": [
      "3.1\n"
     ]
    }
   ],
   "source": [
    "print(\"%0.1f\" % 3.1415)"
   ]
  },
  {
   "cell_type": "code",
   "execution_count": 7,
   "metadata": {},
   "outputs": [
    {
     "name": "stdout",
     "output_type": "stream",
     "text": [
      "The answer is 3.1 for this question\n"
     ]
    }
   ],
   "source": [
    "print(\"The answer is %0.1f for this question\" % 3.1415)"
   ]
  },
  {
   "cell_type": "code",
   "execution_count": 9,
   "metadata": {},
   "outputs": [
    {
     "name": "stdout",
     "output_type": "stream",
     "text": [
      "720\n"
     ]
    }
   ],
   "source": [
    "string='720'\n",
    "print(string)"
   ]
  },
  {
   "cell_type": "code",
   "execution_count": 10,
   "metadata": {},
   "outputs": [
    {
     "data": {
      "text/plain": [
       "str"
      ]
     },
     "execution_count": 10,
     "metadata": {},
     "output_type": "execute_result"
    }
   ],
   "source": [
    "type(string)"
   ]
  },
  {
   "cell_type": "code",
   "execution_count": 11,
   "metadata": {},
   "outputs": [
    {
     "data": {
      "text/plain": [
       "720"
      ]
     },
     "execution_count": 11,
     "metadata": {},
     "output_type": "execute_result"
    }
   ],
   "source": [
    "int(string)"
   ]
  },
  {
   "cell_type": "code",
   "execution_count": 12,
   "metadata": {},
   "outputs": [
    {
     "data": {
      "text/plain": [
       "'720'"
      ]
     },
     "execution_count": 12,
     "metadata": {},
     "output_type": "execute_result"
    }
   ],
   "source": [
    "string"
   ]
  },
  {
   "cell_type": "code",
   "execution_count": 14,
   "metadata": {},
   "outputs": [
    {
     "name": "stdout",
     "output_type": "stream",
     "text": [
      "<class 'str'>\n",
      "<class 'int'>\n"
     ]
    }
   ],
   "source": [
    "string='720'\n",
    "print(type(string))\n",
    "string=int(string)\n",
    "print(type(string))"
   ]
  },
  {
   "cell_type": "code",
   "execution_count": 18,
   "metadata": {},
   "outputs": [
    {
     "name": "stdout",
     "output_type": "stream",
     "text": [
      "<class 'int'>\n",
      "<class 'str'>\n"
     ]
    }
   ],
   "source": [
    "digit = 100\n",
    "print(type(digit))\n",
    "digit=str(digit)\n",
    "print(type(digit))"
   ]
  },
  {
   "cell_type": "code",
   "execution_count": 19,
   "metadata": {},
   "outputs": [
    {
     "name": "stdout",
     "output_type": "stream",
     "text": [
      "30\n"
     ]
    }
   ],
   "source": [
    "num1 = 10\n",
    "num2 = 20\n",
    "print(num1+num2)"
   ]
  },
  {
   "cell_type": "code",
   "execution_count": 20,
   "metadata": {},
   "outputs": [
    {
     "name": "stdout",
     "output_type": "stream",
     "text": [
      "-10\n",
      "0.5\n",
      "200\n",
      "10\n"
     ]
    }
   ],
   "source": [
    "print(num1-num2)\n",
    "print(num1/num2)\n",
    "print(num1*num2)\n",
    "print(num1%num2)"
   ]
  },
  {
   "cell_type": "code",
   "execution_count": 44,
   "metadata": {},
   "outputs": [
    {
     "name": "stdout",
     "output_type": "stream",
     "text": [
      "36\n"
     ]
    }
   ],
   "source": [
    "print(6**2)"
   ]
  },
  {
   "cell_type": "markdown",
   "metadata": {},
   "source": [
    "** : 거듭지수 \n",
    "^아님"
   ]
  },
  {
   "cell_type": "code",
   "execution_count": 31,
   "metadata": {},
   "outputs": [
    {
     "name": "stdout",
     "output_type": "stream",
     "text": [
      "6\n"
     ]
    }
   ],
   "source": [
    "data1 =2\n",
    "data2 = 4\n",
    "\n",
    "print(data1+data2)"
   ]
  },
  {
   "cell_type": "code",
   "execution_count": 32,
   "metadata": {},
   "outputs": [
    {
     "name": "stdout",
     "output_type": "stream",
     "text": [
      "24\n"
     ]
    }
   ],
   "source": [
    "data1 ='2'\n",
    "data2 = '4'\n",
    "\n",
    "print(data1+data2)"
   ]
  },
  {
   "cell_type": "code",
   "execution_count": 33,
   "metadata": {},
   "outputs": [
    {
     "name": "stdout",
     "output_type": "stream",
     "text": [
      "5\n",
      "<class 'str'>\n"
     ]
    }
   ],
   "source": [
    "data1=input()\n",
    "print(type(data1))"
   ]
  },
  {
   "cell_type": "code",
   "execution_count": 34,
   "metadata": {},
   "outputs": [
    {
     "name": "stdout",
     "output_type": "stream",
     "text": [
      "2\n",
      "4\n",
      "24\n"
     ]
    }
   ],
   "source": [
    "data1=input()\n",
    "data2=input()\n",
    "\n",
    "print(data1+data2)"
   ]
  },
  {
   "cell_type": "code",
   "execution_count": 35,
   "metadata": {},
   "outputs": [
    {
     "name": "stdout",
     "output_type": "stream",
     "text": [
      "2\n",
      "4\n",
      "6\n"
     ]
    }
   ],
   "source": [
    "data1=input()\n",
    "data2 = input()\n",
    "\n",
    "data1=int(data1)\n",
    "data2=int(data2)\n",
    "\n",
    "print(data1+data2)"
   ]
  },
  {
   "cell_type": "code",
   "execution_count": 36,
   "metadata": {},
   "outputs": [
    {
     "name": "stdout",
     "output_type": "stream",
     "text": [
      "2\n",
      "4\n",
      "6\n"
     ]
    }
   ],
   "source": [
    "data1=input()\n",
    "data2=input()\n",
    "\n",
    "print(int(data1)+int(data2))"
   ]
  },
  {
   "cell_type": "code",
   "execution_count": 38,
   "metadata": {},
   "outputs": [
    {
     "name": "stdout",
     "output_type": "stream",
     "text": [
      "2\n",
      "4\n",
      "data1 + data 2= 6\n",
      "data1 - data 2= -2\n",
      "data1 / data 2= 0.5\n",
      "data1 * data 2= 8\n"
     ]
    }
   ],
   "source": [
    "data1=input()\n",
    "data2=input()\n",
    "\n",
    "data1=int(data1)\n",
    "data2=int(data2)\n",
    "\n",
    "print(\"data1 + data 2=\",data1+data2)\n",
    "print(\"data1 - data 2=\",data1-data2)\n",
    "print(\"data1 / data 2=\",data1/data2)\n",
    "print(\"data1 * data 2=\",data1*data2)\n"
   ]
  },
  {
   "cell_type": "code",
   "execution_count": 43,
   "metadata": {},
   "outputs": [
    {
     "name": "stdout",
     "output_type": "stream",
     "text": [
      "4\n",
      "4\n",
      "data1 + data 2= 8\n",
      "data1 * data 2= 16\n",
      "data1 / data 2= 1.0\n",
      "data1 // data 2= 1\n",
      "data1 % data 2= 0\n"
     ]
    }
   ],
   "source": [
    "data1=input()\n",
    "data2=input()\n",
    "\n",
    "data1=int(data1)\n",
    "data2=int(data2)\n",
    "\n",
    "print(\"data1 + data 2=\",data1+data2)\n",
    "print(\"data1 * data 2=\",data1*data2)\n",
    "print(\"data1 / data 2=\",data1/data2)\n",
    "print(\"data1 // data 2=\",data1//data2)\n",
    "print(\"data1 % data 2=\",data1%data2)"
   ]
  },
  {
   "cell_type": "markdown",
   "metadata": {},
   "source": [
    "/ : 나눈 값\n",
    "// : 나눈 몫\n",
    "% : 나머지 값"
   ]
  },
  {
   "cell_type": "code",
   "execution_count": 2,
   "metadata": {},
   "outputs": [
    {
     "name": "stdout",
     "output_type": "stream",
     "text": [
      "4\n",
      "4\n",
      "4 + 4 = 8\n",
      "4 * 4 = 16\n",
      "4 / 4 = 1\n",
      "4 // 4 = 1\n",
      "4 % 4 = 0\n"
     ]
    }
   ],
   "source": [
    "data1 = input()\n",
    "data2 = input()\n",
    "\n",
    "\n",
    "print(data1,\"+\",data2,\"=\",int(data1)+int(data2))\n",
    "print(data1,\"*\",data2,\"=\",int(data1)*int(data2))\n",
    "print(data1,\"/\",data2,\"=\",\"%0.0f\"%(int(data1)/int(data2)))\n",
    "print(data1,\"//\",data2,\"=\",int(data1)//int(data2))\n",
    "print(data1,\"%\",data2,\"=\",int(data1)%int(data2))\n"
   ]
  },
  {
   "cell_type": "markdown",
   "metadata": {},
   "source": [
    "\"%0.1f\" % (int(data1)/int(data2))에서 ,가 아니라 %임을 조심하기"
   ]
  },
  {
   "cell_type": "code",
   "execution_count": 3,
   "metadata": {},
   "outputs": [
    {
     "name": "stdout",
     "output_type": "stream",
     "text": [
      "5\n",
      "4\n",
      "5 + 4 = 9\n",
      "5 * 4 = 20\n",
      "5 / 4 = 1.2\n",
      "5 // 4 = 1\n",
      "5 % 4 = 1\n"
     ]
    }
   ],
   "source": [
    "data1 = input()\n",
    "data2=input()\n",
    "\n",
    "print(data1,\"+\",data2,\"=\",int(data1)+int(data2))\n",
    "print(data1,\"*\",data2,\"=\",int(data1)*int(data2))\n",
    "print(data1,\"/\",data2,\"=\",\"%0.1f\"%(int(data1)/int(data2)))\n",
    "print(data1,\"//\",data2,\"=\",int(data1)//int(data2))\n",
    "print(data1,\"%\",data2,\"=\",int(data1)%int(data2))"
   ]
  },
  {
   "cell_type": "code",
   "execution_count": null,
   "metadata": {},
   "outputs": [],
   "source": []
  }
 ],
 "metadata": {
  "kernelspec": {
   "display_name": "Python 3",
   "language": "python",
   "name": "python3"
  },
  "language_info": {
   "codemirror_mode": {
    "name": "ipython",
    "version": 3
   },
   "file_extension": ".py",
   "mimetype": "text/x-python",
   "name": "python",
   "nbconvert_exporter": "python",
   "pygments_lexer": "ipython3",
   "version": "3.7.4"
  }
 },
 "nbformat": 4,
 "nbformat_minor": 2
}
