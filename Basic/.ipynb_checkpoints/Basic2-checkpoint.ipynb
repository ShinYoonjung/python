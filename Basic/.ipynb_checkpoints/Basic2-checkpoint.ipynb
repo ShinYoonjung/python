{
 "cells": [
  {
   "cell_type": "code",
   "execution_count": 1,
   "metadata": {},
   "outputs": [
    {
     "name": "stdout",
     "output_type": "stream",
     "text": [
      "<class 'int'>\n",
      "<class 'float'>\n",
      "<class 'str'>\n"
     ]
    }
   ],
   "source": [
    "digit1=10\n",
    "digit2=2.2\n",
    "string1=\"fun-coding\"\n",
    "\n",
    "print(type(digit1))\n",
    "print(type(digit2))\n",
    "print(type(string1))"
   ]
  },
  {
   "cell_type": "code",
   "execution_count": 2,
   "metadata": {},
   "outputs": [
    {
     "name": "stdout",
     "output_type": "stream",
     "text": [
      "000660\n",
      "00000102\t12312312\n"
     ]
    }
   ],
   "source": [
    "code = '000660\\n00000102\\t12312312'\n",
    "print (code)"
   ]
  },
  {
   "cell_type": "markdown",
   "metadata": {},
   "source": [
    "\\n은 줄바꿈\n",
    "\\t은 Tab해줌"
   ]
  },
  {
   "cell_type": "code",
   "execution_count": 6,
   "metadata": {},
   "outputs": [
    {
     "name": "stdout",
     "output_type": "stream",
     "text": [
      "100\n",
      "99\n",
      "99\n"
     ]
    }
   ],
   "source": [
    "data1=input()\n",
    "data2=input()\n",
    "\n",
    "if data1>data2:\n",
    "    print(data1)\n",
    "else:\n",
    "    print(data2)"
   ]
  },
  {
   "cell_type": "markdown",
   "metadata": {},
   "source": [
    "if밑에 줄에 tab으로 띄어야함\n",
    "문자열로 비교했을 때는 원하는 결과가 안나온다 1과 9를 비교하기 때문에"
   ]
  },
  {
   "cell_type": "code",
   "execution_count": 8,
   "metadata": {},
   "outputs": [
    {
     "name": "stdout",
     "output_type": "stream",
     "text": [
      "100\n",
      "99\n",
      "100\n"
     ]
    }
   ],
   "source": [
    "digit1=input()\n",
    "digit2=input()\n",
    "\n",
    "if int(digit1)>int(digit2):\n",
    "    print(digit1)\n",
    "else:\n",
    "    print(digit2)"
   ]
  },
  {
   "cell_type": "code",
   "execution_count": 10,
   "metadata": {},
   "outputs": [
    {
     "name": "stdout",
     "output_type": "stream",
     "text": [
      "7\n",
      "홀수입니다\n"
     ]
    }
   ],
   "source": [
    "digit = input()\n",
    "digit=int(digit)\n",
    "\n",
    "if (digit%2)==0:\n",
    "    print(\"짝수입니다\")\n",
    "else:\n",
    "    print(\"홀수입니다\")"
   ]
  },
  {
   "cell_type": "code",
   "execution_count": 14,
   "metadata": {},
   "outputs": [
    {
     "name": "stdout",
     "output_type": "stream",
     "text": [
      "3\n",
      "1\n",
      "2\n",
      "1\n"
     ]
    }
   ],
   "source": [
    "digit1=input()\n",
    "digit2=input()\n",
    "digit3=input()\n",
    "\n",
    "if digit1<digit2:\n",
    "    min=digit1\n",
    "else:\n",
    "    min=digit2\n",
    "if min>digit3:\n",
    "    min=digit3\n",
    "print(min)"
   ]
  },
  {
   "cell_type": "code",
   "execution_count": 20,
   "metadata": {},
   "outputs": [
    {
     "name": "stdout",
     "output_type": "stream",
     "text": [
      "5\n",
      "C\n"
     ]
    }
   ],
   "source": [
    "digit = int(input())\n",
    "\n",
    "if digit > 80:\n",
    "    print(\"A\")\n",
    "elif digit > 60:\n",
    "    print(\"B\")\n",
    "else:\n",
    "    print(\"C\")"
   ]
  },
  {
   "cell_type": "markdown",
   "metadata": {},
   "source": [
    "digit의 타입을 숫자형이 아닌 문자형으로 digit>80으로 비교하면 오류남(문자와 숫자의 비교라서)"
   ]
  },
  {
   "cell_type": "markdown",
   "metadata": {},
   "source": [
    "else if로 쓰던 것이 파이썬에서는 elif로 쓰였다"
   ]
  },
  {
   "cell_type": "markdown",
   "metadata": {},
   "source": [
    "데이터구조(리스트 사용)\n",
    "사용자로부터 주민등록번호를 입력받아 출생 연도를 출력"
   ]
  },
  {
   "cell_type": "code",
   "execution_count": 22,
   "metadata": {},
   "outputs": [
    {
     "name": "stdout",
     "output_type": "stream",
     "text": [
      "80\n"
     ]
    }
   ],
   "source": [
    "personal_id='800101-1231231'\n",
    "\n",
    "print(personal_id[0:2])"
   ]
  },
  {
   "cell_type": "code",
   "execution_count": 24,
   "metadata": {},
   "outputs": [
    {
     "name": "stdout",
     "output_type": "stream",
     "text": [
      "970925-1232131\n",
      "97\n"
     ]
    }
   ],
   "source": [
    "personal_id=input()\n",
    "\n",
    "print(personal_id[0:2])"
   ]
  },
  {
   "cell_type": "markdown",
   "metadata": {},
   "source": [
    "Exercise 19. 데이터 구조 (리스트)\n",
    "사용자로부터 주민등록번호를 입력받아 뒷자리 맨 앞의 숫자를 출력하세요.\n",
    "주민등록번호 뒷자리 맨 앞자리는 성별을 나타냄\n",
    "예) 800001-1231231 주민번호를 입력받으면 1을 출력하면 됨\n",
    "1은 남성을 의미, 2는 여성을 의미, 최근 아이들은 3과 4를 사용함 "
   ]
  },
  {
   "cell_type": "code",
   "execution_count": 30,
   "metadata": {},
   "outputs": [
    {
     "name": "stdout",
     "output_type": "stream",
     "text": [
      "1\n"
     ]
    }
   ],
   "source": [
    "personal_id=\"800001-1231231\"\n",
    "\n",
    "print(personal_id[7])"
   ]
  },
  {
   "cell_type": "code",
   "execution_count": 32,
   "metadata": {},
   "outputs": [
    {
     "name": "stdout",
     "output_type": "stream",
     "text": [
      "970925-3691648\n",
      "3\n"
     ]
    }
   ],
   "source": [
    "personal_id=input()\n",
    "\n",
    "print(personal_id[7])"
   ]
  },
  {
   "cell_type": "markdown",
   "metadata": {},
   "source": [
    "Exercise 20. 데이터 구조 (리스트)\n",
    "사용자로부터 주민등록번호를 입력받아, 성별을 '남성' 또는 '여성'으로 출력하세요.\n",
    "주민등록번호 뒷자리 맨 앞자리는 성별을 나타냄\n",
    "예) 800001-1231231 주민번호를 입력받으면 1을 출력하면 됨\n",
    "1이면 남성, 2이면 여성을 출력하면 됨 (최근 아이들은 3과 4를 사용하지만 이 경우는 고려하지 않기로 함) "
   ]
  },
  {
   "cell_type": "code",
   "execution_count": 34,
   "metadata": {},
   "outputs": [
    {
     "name": "stdout",
     "output_type": "stream",
     "text": [
      "800001-1231231\n",
      "남성\n"
     ]
    }
   ],
   "source": [
    "personal_id=input()\n",
    "\n",
    "if personal_id[7]=='1':\n",
    "    print(\"남성\")\n",
    "else:\n",
    "    print(\"여성\")"
   ]
  },
  {
   "cell_type": "markdown",
   "metadata": {},
   "source": [
    "최근 아이들은 3과 4를 사용하는 경우도 고려"
   ]
  },
  {
   "cell_type": "code",
   "execution_count": 36,
   "metadata": {},
   "outputs": [
    {
     "name": "stdout",
     "output_type": "stream",
     "text": [
      "970925-3213214\n",
      "남성\n"
     ]
    }
   ],
   "source": [
    "personal_id=input()\n",
    "\n",
    "if personal_id[7]=='1'or personal_id[7]=='3':\n",
    "    print(\"남성\")\n",
    "else:\n",
    "    print(\"여성\")"
   ]
  },
  {
   "cell_type": "markdown",
   "metadata": {},
   "source": [
    "Exercise 21. 문자열 다루기 (strip)\n",
    "다음 문자열에서 ...를 제거하라.\n",
    "strip은 양 끝에 있는 문자만 제거, 여러 문자 제거가능(순서상관없이 문자로만 생각하기)"
   ]
  },
  {
   "cell_type": "code",
   "execution_count": 38,
   "metadata": {},
   "outputs": [
    {
     "name": "stdout",
     "output_type": "stream",
     "text": [
      "a man goes into the room\n"
     ]
    }
   ],
   "source": [
    "mystr = \"a man goes into the room...\"\n",
    "\n",
    "print(mystr.strip(\".\"))"
   ]
  },
  {
   "cell_type": "code",
   "execution_count": 42,
   "metadata": {},
   "outputs": [
    {
     "name": "stdout",
     "output_type": "stream",
     "text": [
      " man goes into the room\n"
     ]
    }
   ],
   "source": [
    "mystr = \"a man goes into the room\"\n",
    "\n",
    "print(mystr.strip(\"a\"))"
   ]
  },
  {
   "cell_type": "code",
   "execution_count": 44,
   "metadata": {},
   "outputs": [
    {
     "name": "stdout",
     "output_type": "stream",
     "text": [
      "a man goes into the room\n"
     ]
    }
   ],
   "source": [
    "mystr = \"66666...a man goes into the room\"\n",
    "\n",
    "print(mystr.strip(\"6.\"))"
   ]
  },
  {
   "cell_type": "code",
   "execution_count": 45,
   "metadata": {},
   "outputs": [
    {
     "name": "stdout",
     "output_type": "stream",
     "text": [
      "a man goes into the r\n"
     ]
    }
   ],
   "source": [
    "mystr = \"a man goes into the room\"\n",
    "\n",
    "print(mystr.strip(\"om\"))"
   ]
  },
  {
   "cell_type": "code",
   "execution_count": 46,
   "metadata": {},
   "outputs": [
    {
     "name": "stdout",
     "output_type": "stream",
     "text": [
      "a man goes into the r\n"
     ]
    }
   ],
   "source": [
    "mystr = \"a man goes into the room\"\n",
    "\n",
    "print(mystr.strip(\"mo\"))"
   ]
  },
  {
   "cell_type": "code",
   "execution_count": 47,
   "metadata": {},
   "outputs": [
    {
     "name": "stdout",
     "output_type": "stream",
     "text": [
      "a man goes into the \n"
     ]
    }
   ],
   "source": [
    "mystr = \"a man goes into the room\"\n",
    "\n",
    "print(mystr.strip(\"rmo\"))"
   ]
  },
  {
   "cell_type": "code",
   "execution_count": 48,
   "metadata": {},
   "outputs": [
    {
     "name": "stdout",
     "output_type": "stream",
     "text": [
      "a man goes into the \n"
     ]
    }
   ],
   "source": [
    "mystr = \"a man goes into the room\"\n",
    "\n",
    "print(mystr.strip(\"mro\"))"
   ]
  },
  {
   "cell_type": "code",
   "execution_count": 49,
   "metadata": {},
   "outputs": [
    {
     "name": "stdout",
     "output_type": "stream",
     "text": [
      " man goes into the \n"
     ]
    }
   ],
   "source": [
    "mystr = \"a man goes into the room\"\n",
    "\n",
    "print(mystr.strip(\"armo\"))"
   ]
  },
  {
   "cell_type": "markdown",
   "metadata": {},
   "source": [
    "Exercise 22. 문자열 다루기 (strip)\n",
    "주식 종목을 나타내는 종목코드에 공백과 줄바꿈 기호가 포함되어 있다. 공백과 잘바꿈 기호를 제거하고 종목코드만을 추출하라.        "
   ]
  },
  {
   "cell_type": "code",
   "execution_count": 4,
   "metadata": {},
   "outputs": [
    {
     "name": "stdout",
     "output_type": "stream",
     "text": [
      "000660\n"
     ]
    }
   ],
   "source": [
    "code = '         000660\\n            '\n",
    "\n",
    "print(code.strip(\" \\n\"))"
   ]
  },
  {
   "cell_type": "markdown",
   "metadata": {},
   "source": [
    "Exercise 23. 문자열 다루기 (count)\n",
    "다음 문자열에서 'Python' 문자열의 빈도수를 출력하라."
   ]
  },
  {
   "cell_type": "code",
   "execution_count": 5,
   "metadata": {},
   "outputs": [
    {
     "name": "stdout",
     "output_type": "stream",
     "text": [
      "2\n"
     ]
    }
   ],
   "source": [
    "python_desc = \"Python is an interpreted high-level programming language for general-purpose programming. Created by Guido van Rossum and first released in 1991, Python has a design philosophy that emphasizes code readability, notably using significant whitespace.\"\n",
    "\n",
    "print(python_desc.count(\"Python\"))"
   ]
  },
  {
   "cell_type": "markdown",
   "metadata": {},
   "source": [
    "Exercise 24. 문자열 다루기 (count)\n",
    "다음 문자열에서 'p' 문자가 몇번 나오는지 빈도수를 출력하라."
   ]
  },
  {
   "cell_type": "code",
   "execution_count": 8,
   "metadata": {},
   "outputs": [
    {
     "name": "stdout",
     "output_type": "stream",
     "text": [
      "9\n"
     ]
    }
   ],
   "source": [
    "python_desc = \"Python is an interpreted high-level programming language for general-purpose programming. Created by Guido van Rossum and first released in 1991, Python has a design philosophy that emphasizes code readability, notably using significant whitespace.\"\n",
    "\n",
    "print(python_desc.count(\"p\"))"
   ]
  }
 ],
 "metadata": {
  "kernelspec": {
   "display_name": "Python 3",
   "language": "python",
   "name": "python3"
  },
  "language_info": {
   "codemirror_mode": {
    "name": "ipython",
    "version": 3
   },
   "file_extension": ".py",
   "mimetype": "text/x-python",
   "name": "python",
   "nbconvert_exporter": "python",
   "pygments_lexer": "ipython3",
   "version": "3.7.4"
  }
 },
 "nbformat": 4,
 "nbformat_minor": 2
}
